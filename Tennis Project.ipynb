{
 "cells": [
  {
   "cell_type": "markdown",
   "metadata": {},
   "source": [
    "# Import Libraries"
   ]
  },
  {
   "cell_type": "code",
   "execution_count": 4,
   "metadata": {
    "ExecuteTime": {
     "end_time": "2020-02-12T18:56:13.307122Z",
     "start_time": "2020-02-12T18:56:13.224347Z"
    }
   },
   "outputs": [
    {
     "name": "stdout",
     "output_type": "stream",
     "text": [
      "The autoreload extension is already loaded. To reload it, use:\n",
      "  %reload_ext autoreload\n"
     ]
    }
   ],
   "source": [
    "import pandas as pd\n",
    "\n",
    "import helper\n",
    "%load_ext autoreload\n",
    "%autoreload 2"
   ]
  },
  {
   "cell_type": "markdown",
   "metadata": {},
   "source": [
    "# Obtain Data\n",
    "\n",
    "Data is from Jeff Sackmann's [Match Charting Project](http://www.tennisabstract.com/charting/meta.html), a crowdsourced effort to bring point-by-point data from professional matches to tennis enthusiasts.\n",
    "\n",
    "I periodically scrape the site for new matches and store it in a MySQL database. For this project, I will use data for matches between 2000 and 2018. I queried my database and saved the appropriate match and point data in the 'data' folder."
   ]
  },
  {
   "cell_type": "code",
   "execution_count": 9,
   "metadata": {
    "ExecuteTime": {
     "end_time": "2020-02-12T18:49:28.154128Z",
     "start_time": "2020-02-12T18:49:28.015460Z"
    }
   },
   "outputs": [
    {
     "ename": "OSError",
     "evalue": "Not a gzipped file (b'ma')",
     "output_type": "error",
     "traceback": [
      "\u001b[1;31m---------------------------------------------------------------------------\u001b[0m",
      "\u001b[1;31mOSError\u001b[0m                                   Traceback (most recent call last)",
      "\u001b[1;32m<ipython-input-9-33388972dbd1>\u001b[0m in \u001b[0;36m<module>\u001b[1;34m\u001b[0m\n\u001b[0;32m      1\u001b[0m \u001b[1;31m# matches = pd.read_csv('data/matches.csv', parse_dates=['date'])\u001b[0m\u001b[1;33m\u001b[0m\u001b[1;33m\u001b[0m\u001b[1;33m\u001b[0m\u001b[0m\n\u001b[1;32m----> 2\u001b[1;33m \u001b[0mpoints\u001b[0m \u001b[1;33m=\u001b[0m \u001b[0mpd\u001b[0m\u001b[1;33m.\u001b[0m\u001b[0mread_csv\u001b[0m\u001b[1;33m(\u001b[0m\u001b[1;34m'data - Copy/points.csv'\u001b[0m\u001b[1;33m,\u001b[0m \u001b[0mcompression\u001b[0m\u001b[1;33m=\u001b[0m\u001b[1;34m'gzip'\u001b[0m\u001b[1;33m)\u001b[0m\u001b[1;33m\u001b[0m\u001b[1;33m\u001b[0m\u001b[0m\n\u001b[0m",
      "\u001b[1;32m~\\AppData\\Local\\Continuum\\anaconda3\\lib\\site-packages\\pandas\\io\\parsers.py\u001b[0m in \u001b[0;36mparser_f\u001b[1;34m(filepath_or_buffer, sep, delimiter, header, names, index_col, usecols, squeeze, prefix, mangle_dupe_cols, dtype, engine, converters, true_values, false_values, skipinitialspace, skiprows, skipfooter, nrows, na_values, keep_default_na, na_filter, verbose, skip_blank_lines, parse_dates, infer_datetime_format, keep_date_col, date_parser, dayfirst, cache_dates, iterator, chunksize, compression, thousands, decimal, lineterminator, quotechar, quoting, doublequote, escapechar, comment, encoding, dialect, error_bad_lines, warn_bad_lines, delim_whitespace, low_memory, memory_map, float_precision)\u001b[0m\n\u001b[0;32m    683\u001b[0m         )\n\u001b[0;32m    684\u001b[0m \u001b[1;33m\u001b[0m\u001b[0m\n\u001b[1;32m--> 685\u001b[1;33m         \u001b[1;32mreturn\u001b[0m \u001b[0m_read\u001b[0m\u001b[1;33m(\u001b[0m\u001b[0mfilepath_or_buffer\u001b[0m\u001b[1;33m,\u001b[0m \u001b[0mkwds\u001b[0m\u001b[1;33m)\u001b[0m\u001b[1;33m\u001b[0m\u001b[1;33m\u001b[0m\u001b[0m\n\u001b[0m\u001b[0;32m    686\u001b[0m \u001b[1;33m\u001b[0m\u001b[0m\n\u001b[0;32m    687\u001b[0m     \u001b[0mparser_f\u001b[0m\u001b[1;33m.\u001b[0m\u001b[0m__name__\u001b[0m \u001b[1;33m=\u001b[0m \u001b[0mname\u001b[0m\u001b[1;33m\u001b[0m\u001b[1;33m\u001b[0m\u001b[0m\n",
      "\u001b[1;32m~\\AppData\\Local\\Continuum\\anaconda3\\lib\\site-packages\\pandas\\io\\parsers.py\u001b[0m in \u001b[0;36m_read\u001b[1;34m(filepath_or_buffer, kwds)\u001b[0m\n\u001b[0;32m    455\u001b[0m \u001b[1;33m\u001b[0m\u001b[0m\n\u001b[0;32m    456\u001b[0m     \u001b[1;31m# Create the parser.\u001b[0m\u001b[1;33m\u001b[0m\u001b[1;33m\u001b[0m\u001b[1;33m\u001b[0m\u001b[0m\n\u001b[1;32m--> 457\u001b[1;33m     \u001b[0mparser\u001b[0m \u001b[1;33m=\u001b[0m \u001b[0mTextFileReader\u001b[0m\u001b[1;33m(\u001b[0m\u001b[0mfp_or_buf\u001b[0m\u001b[1;33m,\u001b[0m \u001b[1;33m**\u001b[0m\u001b[0mkwds\u001b[0m\u001b[1;33m)\u001b[0m\u001b[1;33m\u001b[0m\u001b[1;33m\u001b[0m\u001b[0m\n\u001b[0m\u001b[0;32m    458\u001b[0m \u001b[1;33m\u001b[0m\u001b[0m\n\u001b[0;32m    459\u001b[0m     \u001b[1;32mif\u001b[0m \u001b[0mchunksize\u001b[0m \u001b[1;32mor\u001b[0m \u001b[0miterator\u001b[0m\u001b[1;33m:\u001b[0m\u001b[1;33m\u001b[0m\u001b[1;33m\u001b[0m\u001b[0m\n",
      "\u001b[1;32m~\\AppData\\Local\\Continuum\\anaconda3\\lib\\site-packages\\pandas\\io\\parsers.py\u001b[0m in \u001b[0;36m__init__\u001b[1;34m(self, f, engine, **kwds)\u001b[0m\n\u001b[0;32m    893\u001b[0m             \u001b[0mself\u001b[0m\u001b[1;33m.\u001b[0m\u001b[0moptions\u001b[0m\u001b[1;33m[\u001b[0m\u001b[1;34m\"has_index_names\"\u001b[0m\u001b[1;33m]\u001b[0m \u001b[1;33m=\u001b[0m \u001b[0mkwds\u001b[0m\u001b[1;33m[\u001b[0m\u001b[1;34m\"has_index_names\"\u001b[0m\u001b[1;33m]\u001b[0m\u001b[1;33m\u001b[0m\u001b[1;33m\u001b[0m\u001b[0m\n\u001b[0;32m    894\u001b[0m \u001b[1;33m\u001b[0m\u001b[0m\n\u001b[1;32m--> 895\u001b[1;33m         \u001b[0mself\u001b[0m\u001b[1;33m.\u001b[0m\u001b[0m_make_engine\u001b[0m\u001b[1;33m(\u001b[0m\u001b[0mself\u001b[0m\u001b[1;33m.\u001b[0m\u001b[0mengine\u001b[0m\u001b[1;33m)\u001b[0m\u001b[1;33m\u001b[0m\u001b[1;33m\u001b[0m\u001b[0m\n\u001b[0m\u001b[0;32m    896\u001b[0m \u001b[1;33m\u001b[0m\u001b[0m\n\u001b[0;32m    897\u001b[0m     \u001b[1;32mdef\u001b[0m \u001b[0mclose\u001b[0m\u001b[1;33m(\u001b[0m\u001b[0mself\u001b[0m\u001b[1;33m)\u001b[0m\u001b[1;33m:\u001b[0m\u001b[1;33m\u001b[0m\u001b[1;33m\u001b[0m\u001b[0m\n",
      "\u001b[1;32m~\\AppData\\Local\\Continuum\\anaconda3\\lib\\site-packages\\pandas\\io\\parsers.py\u001b[0m in \u001b[0;36m_make_engine\u001b[1;34m(self, engine)\u001b[0m\n\u001b[0;32m   1133\u001b[0m     \u001b[1;32mdef\u001b[0m \u001b[0m_make_engine\u001b[0m\u001b[1;33m(\u001b[0m\u001b[0mself\u001b[0m\u001b[1;33m,\u001b[0m \u001b[0mengine\u001b[0m\u001b[1;33m=\u001b[0m\u001b[1;34m\"c\"\u001b[0m\u001b[1;33m)\u001b[0m\u001b[1;33m:\u001b[0m\u001b[1;33m\u001b[0m\u001b[1;33m\u001b[0m\u001b[0m\n\u001b[0;32m   1134\u001b[0m         \u001b[1;32mif\u001b[0m \u001b[0mengine\u001b[0m \u001b[1;33m==\u001b[0m \u001b[1;34m\"c\"\u001b[0m\u001b[1;33m:\u001b[0m\u001b[1;33m\u001b[0m\u001b[1;33m\u001b[0m\u001b[0m\n\u001b[1;32m-> 1135\u001b[1;33m             \u001b[0mself\u001b[0m\u001b[1;33m.\u001b[0m\u001b[0m_engine\u001b[0m \u001b[1;33m=\u001b[0m \u001b[0mCParserWrapper\u001b[0m\u001b[1;33m(\u001b[0m\u001b[0mself\u001b[0m\u001b[1;33m.\u001b[0m\u001b[0mf\u001b[0m\u001b[1;33m,\u001b[0m \u001b[1;33m**\u001b[0m\u001b[0mself\u001b[0m\u001b[1;33m.\u001b[0m\u001b[0moptions\u001b[0m\u001b[1;33m)\u001b[0m\u001b[1;33m\u001b[0m\u001b[1;33m\u001b[0m\u001b[0m\n\u001b[0m\u001b[0;32m   1136\u001b[0m         \u001b[1;32melse\u001b[0m\u001b[1;33m:\u001b[0m\u001b[1;33m\u001b[0m\u001b[1;33m\u001b[0m\u001b[0m\n\u001b[0;32m   1137\u001b[0m             \u001b[1;32mif\u001b[0m \u001b[0mengine\u001b[0m \u001b[1;33m==\u001b[0m \u001b[1;34m\"python\"\u001b[0m\u001b[1;33m:\u001b[0m\u001b[1;33m\u001b[0m\u001b[1;33m\u001b[0m\u001b[0m\n",
      "\u001b[1;32m~\\AppData\\Local\\Continuum\\anaconda3\\lib\\site-packages\\pandas\\io\\parsers.py\u001b[0m in \u001b[0;36m__init__\u001b[1;34m(self, src, **kwds)\u001b[0m\n\u001b[0;32m   1915\u001b[0m         \u001b[0mkwds\u001b[0m\u001b[1;33m[\u001b[0m\u001b[1;34m\"usecols\"\u001b[0m\u001b[1;33m]\u001b[0m \u001b[1;33m=\u001b[0m \u001b[0mself\u001b[0m\u001b[1;33m.\u001b[0m\u001b[0musecols\u001b[0m\u001b[1;33m\u001b[0m\u001b[1;33m\u001b[0m\u001b[0m\n\u001b[0;32m   1916\u001b[0m \u001b[1;33m\u001b[0m\u001b[0m\n\u001b[1;32m-> 1917\u001b[1;33m         \u001b[0mself\u001b[0m\u001b[1;33m.\u001b[0m\u001b[0m_reader\u001b[0m \u001b[1;33m=\u001b[0m \u001b[0mparsers\u001b[0m\u001b[1;33m.\u001b[0m\u001b[0mTextReader\u001b[0m\u001b[1;33m(\u001b[0m\u001b[0msrc\u001b[0m\u001b[1;33m,\u001b[0m \u001b[1;33m**\u001b[0m\u001b[0mkwds\u001b[0m\u001b[1;33m)\u001b[0m\u001b[1;33m\u001b[0m\u001b[1;33m\u001b[0m\u001b[0m\n\u001b[0m\u001b[0;32m   1918\u001b[0m         \u001b[0mself\u001b[0m\u001b[1;33m.\u001b[0m\u001b[0munnamed_cols\u001b[0m \u001b[1;33m=\u001b[0m \u001b[0mself\u001b[0m\u001b[1;33m.\u001b[0m\u001b[0m_reader\u001b[0m\u001b[1;33m.\u001b[0m\u001b[0munnamed_cols\u001b[0m\u001b[1;33m\u001b[0m\u001b[1;33m\u001b[0m\u001b[0m\n\u001b[0;32m   1919\u001b[0m \u001b[1;33m\u001b[0m\u001b[0m\n",
      "\u001b[1;32mpandas/_libs/parsers.pyx\u001b[0m in \u001b[0;36mpandas._libs.parsers.TextReader.__cinit__\u001b[1;34m()\u001b[0m\n",
      "\u001b[1;32mpandas/_libs/parsers.pyx\u001b[0m in \u001b[0;36mpandas._libs.parsers.TextReader._get_header\u001b[1;34m()\u001b[0m\n",
      "\u001b[1;32mpandas/_libs/parsers.pyx\u001b[0m in \u001b[0;36mpandas._libs.parsers.TextReader._tokenize_rows\u001b[1;34m()\u001b[0m\n",
      "\u001b[1;32mpandas/_libs/parsers.pyx\u001b[0m in \u001b[0;36mpandas._libs.parsers.raise_parser_error\u001b[1;34m()\u001b[0m\n",
      "\u001b[1;32m~\\AppData\\Local\\Continuum\\anaconda3\\lib\\_compression.py\u001b[0m in \u001b[0;36mreadinto\u001b[1;34m(self, b)\u001b[0m\n\u001b[0;32m     66\u001b[0m     \u001b[1;32mdef\u001b[0m \u001b[0mreadinto\u001b[0m\u001b[1;33m(\u001b[0m\u001b[0mself\u001b[0m\u001b[1;33m,\u001b[0m \u001b[0mb\u001b[0m\u001b[1;33m)\u001b[0m\u001b[1;33m:\u001b[0m\u001b[1;33m\u001b[0m\u001b[1;33m\u001b[0m\u001b[0m\n\u001b[0;32m     67\u001b[0m         \u001b[1;32mwith\u001b[0m \u001b[0mmemoryview\u001b[0m\u001b[1;33m(\u001b[0m\u001b[0mb\u001b[0m\u001b[1;33m)\u001b[0m \u001b[1;32mas\u001b[0m \u001b[0mview\u001b[0m\u001b[1;33m,\u001b[0m \u001b[0mview\u001b[0m\u001b[1;33m.\u001b[0m\u001b[0mcast\u001b[0m\u001b[1;33m(\u001b[0m\u001b[1;34m\"B\"\u001b[0m\u001b[1;33m)\u001b[0m \u001b[1;32mas\u001b[0m \u001b[0mbyte_view\u001b[0m\u001b[1;33m:\u001b[0m\u001b[1;33m\u001b[0m\u001b[1;33m\u001b[0m\u001b[0m\n\u001b[1;32m---> 68\u001b[1;33m             \u001b[0mdata\u001b[0m \u001b[1;33m=\u001b[0m \u001b[0mself\u001b[0m\u001b[1;33m.\u001b[0m\u001b[0mread\u001b[0m\u001b[1;33m(\u001b[0m\u001b[0mlen\u001b[0m\u001b[1;33m(\u001b[0m\u001b[0mbyte_view\u001b[0m\u001b[1;33m)\u001b[0m\u001b[1;33m)\u001b[0m\u001b[1;33m\u001b[0m\u001b[1;33m\u001b[0m\u001b[0m\n\u001b[0m\u001b[0;32m     69\u001b[0m             \u001b[0mbyte_view\u001b[0m\u001b[1;33m[\u001b[0m\u001b[1;33m:\u001b[0m\u001b[0mlen\u001b[0m\u001b[1;33m(\u001b[0m\u001b[0mdata\u001b[0m\u001b[1;33m)\u001b[0m\u001b[1;33m]\u001b[0m \u001b[1;33m=\u001b[0m \u001b[0mdata\u001b[0m\u001b[1;33m\u001b[0m\u001b[1;33m\u001b[0m\u001b[0m\n\u001b[0;32m     70\u001b[0m         \u001b[1;32mreturn\u001b[0m \u001b[0mlen\u001b[0m\u001b[1;33m(\u001b[0m\u001b[0mdata\u001b[0m\u001b[1;33m)\u001b[0m\u001b[1;33m\u001b[0m\u001b[1;33m\u001b[0m\u001b[0m\n",
      "\u001b[1;32m~\\AppData\\Local\\Continuum\\anaconda3\\lib\\gzip.py\u001b[0m in \u001b[0;36mread\u001b[1;34m(self, size)\u001b[0m\n\u001b[0;32m    461\u001b[0m                 \u001b[1;31m# jump to the next member, if there is one.\u001b[0m\u001b[1;33m\u001b[0m\u001b[1;33m\u001b[0m\u001b[1;33m\u001b[0m\u001b[0m\n\u001b[0;32m    462\u001b[0m                 \u001b[0mself\u001b[0m\u001b[1;33m.\u001b[0m\u001b[0m_init_read\u001b[0m\u001b[1;33m(\u001b[0m\u001b[1;33m)\u001b[0m\u001b[1;33m\u001b[0m\u001b[1;33m\u001b[0m\u001b[0m\n\u001b[1;32m--> 463\u001b[1;33m                 \u001b[1;32mif\u001b[0m \u001b[1;32mnot\u001b[0m \u001b[0mself\u001b[0m\u001b[1;33m.\u001b[0m\u001b[0m_read_gzip_header\u001b[0m\u001b[1;33m(\u001b[0m\u001b[1;33m)\u001b[0m\u001b[1;33m:\u001b[0m\u001b[1;33m\u001b[0m\u001b[1;33m\u001b[0m\u001b[0m\n\u001b[0m\u001b[0;32m    464\u001b[0m                     \u001b[0mself\u001b[0m\u001b[1;33m.\u001b[0m\u001b[0m_size\u001b[0m \u001b[1;33m=\u001b[0m \u001b[0mself\u001b[0m\u001b[1;33m.\u001b[0m\u001b[0m_pos\u001b[0m\u001b[1;33m\u001b[0m\u001b[1;33m\u001b[0m\u001b[0m\n\u001b[0;32m    465\u001b[0m                     \u001b[1;32mreturn\u001b[0m \u001b[1;34mb\"\"\u001b[0m\u001b[1;33m\u001b[0m\u001b[1;33m\u001b[0m\u001b[0m\n",
      "\u001b[1;32m~\\AppData\\Local\\Continuum\\anaconda3\\lib\\gzip.py\u001b[0m in \u001b[0;36m_read_gzip_header\u001b[1;34m(self)\u001b[0m\n\u001b[0;32m    409\u001b[0m \u001b[1;33m\u001b[0m\u001b[0m\n\u001b[0;32m    410\u001b[0m         \u001b[1;32mif\u001b[0m \u001b[0mmagic\u001b[0m \u001b[1;33m!=\u001b[0m \u001b[1;34mb'\\037\\213'\u001b[0m\u001b[1;33m:\u001b[0m\u001b[1;33m\u001b[0m\u001b[1;33m\u001b[0m\u001b[0m\n\u001b[1;32m--> 411\u001b[1;33m             \u001b[1;32mraise\u001b[0m \u001b[0mOSError\u001b[0m\u001b[1;33m(\u001b[0m\u001b[1;34m'Not a gzipped file (%r)'\u001b[0m \u001b[1;33m%\u001b[0m \u001b[0mmagic\u001b[0m\u001b[1;33m)\u001b[0m\u001b[1;33m\u001b[0m\u001b[1;33m\u001b[0m\u001b[0m\n\u001b[0m\u001b[0;32m    412\u001b[0m \u001b[1;33m\u001b[0m\u001b[0m\n\u001b[0;32m    413\u001b[0m         (method, flag,\n",
      "\u001b[1;31mOSError\u001b[0m: Not a gzipped file (b'ma')"
     ]
    }
   ],
   "source": [
    "matches = pd.read_csv('data/matches.csv', parse_dates=['date'])\n",
    "points = pd.read_csv('data/points.csv')"
   ]
  },
  {
   "cell_type": "markdown",
   "metadata": {},
   "source": [
    "# Prep Data"
   ]
  },
  {
   "cell_type": "markdown",
   "metadata": {},
   "source": [
    "## Create Stats DataFrame\n",
    "\n",
    "We'll create a dataframe of stats for each player for each match."
   ]
  },
  {
   "cell_type": "code",
   "execution_count": 32,
   "metadata": {
    "ExecuteTime": {
     "end_time": "2020-02-12T18:16:11.812184Z",
     "start_time": "2020-02-12T18:16:11.798219Z"
    }
   },
   "outputs": [],
   "source": [
    "playerColumns = ['player1', 'player2']\n",
    "matchesPlayer=pd.DataFrame()\n",
    "for column in playerColumns:\n",
    "    df = matches[['matchLink', column]]\n",
    "    df.rename(columns={column: 'player'}, inplace=True)\n",
    "    matchesPlayer = pd.concat([matchesPlayer, df])"
   ]
  },
  {
   "cell_type": "code",
   "execution_count": 34,
   "metadata": {
    "ExecuteTime": {
     "end_time": "2020-02-12T18:18:42.632339Z",
     "start_time": "2020-02-12T18:18:42.626354Z"
    }
   },
   "outputs": [
    {
     "data": {
      "text/plain": [
       "9794"
      ]
     },
     "execution_count": 34,
     "metadata": {},
     "output_type": "execute_result"
    }
   ],
   "source": [
    "len(matchesPlayer)"
   ]
  },
  {
   "cell_type": "code",
   "execution_count": 33,
   "metadata": {
    "ExecuteTime": {
     "end_time": "2020-02-12T18:16:16.635770Z",
     "start_time": "2020-02-12T18:16:16.625715Z"
    }
   },
   "outputs": [
    {
     "data": {
      "text/html": [
       "<div>\n",
       "<style scoped>\n",
       "    .dataframe tbody tr th:only-of-type {\n",
       "        vertical-align: middle;\n",
       "    }\n",
       "\n",
       "    .dataframe tbody tr th {\n",
       "        vertical-align: top;\n",
       "    }\n",
       "\n",
       "    .dataframe thead th {\n",
       "        text-align: right;\n",
       "    }\n",
       "</style>\n",
       "<table border=\"1\" class=\"dataframe\">\n",
       "  <thead>\n",
       "    <tr style=\"text-align: right;\">\n",
       "      <th></th>\n",
       "      <th>matchLink</th>\n",
       "      <th>player</th>\n",
       "    </tr>\n",
       "  </thead>\n",
       "  <tbody>\n",
       "    <tr>\n",
       "      <th>0</th>\n",
       "      <td>http://www.tennisabstract.com/charting/2017100...</td>\n",
       "      <td>Ashleigh Barty</td>\n",
       "    </tr>\n",
       "    <tr>\n",
       "      <th>1</th>\n",
       "      <td>http://www.tennisabstract.com/charting/2018060...</td>\n",
       "      <td>Garbine Muguruza</td>\n",
       "    </tr>\n",
       "    <tr>\n",
       "      <th>2</th>\n",
       "      <td>http://www.tennisabstract.com/charting/2016032...</td>\n",
       "      <td>Maria Sakkari</td>\n",
       "    </tr>\n",
       "    <tr>\n",
       "      <th>3</th>\n",
       "      <td>http://www.tennisabstract.com/charting/2015052...</td>\n",
       "      <td>Albert Ramos</td>\n",
       "    </tr>\n",
       "    <tr>\n",
       "      <th>4</th>\n",
       "      <td>http://www.tennisabstract.com/charting/2018061...</td>\n",
       "      <td>Ashleigh Barty</td>\n",
       "    </tr>\n",
       "  </tbody>\n",
       "</table>\n",
       "</div>"
      ],
      "text/plain": [
       "                                           matchLink            player\n",
       "0  http://www.tennisabstract.com/charting/2017100...    Ashleigh Barty\n",
       "1  http://www.tennisabstract.com/charting/2018060...  Garbine Muguruza\n",
       "2  http://www.tennisabstract.com/charting/2016032...     Maria Sakkari\n",
       "3  http://www.tennisabstract.com/charting/2015052...      Albert Ramos\n",
       "4  http://www.tennisabstract.com/charting/2018061...    Ashleigh Barty"
      ]
     },
     "execution_count": 33,
     "metadata": {},
     "output_type": "execute_result"
    }
   ],
   "source": [
    "matchesPlayer.head()"
   ]
  },
  {
   "cell_type": "markdown",
   "metadata": {},
   "source": [
    "# Explore Data"
   ]
  },
  {
   "cell_type": "code",
   "execution_count": 23,
   "metadata": {
    "ExecuteTime": {
     "end_time": "2020-02-12T17:47:27.747981Z",
     "start_time": "2020-02-12T17:47:27.728035Z"
    }
   },
   "outputs": [
    {
     "data": {
      "text/html": [
       "<div>\n",
       "<style scoped>\n",
       "    .dataframe tbody tr th:only-of-type {\n",
       "        vertical-align: middle;\n",
       "    }\n",
       "\n",
       "    .dataframe tbody tr th {\n",
       "        vertical-align: top;\n",
       "    }\n",
       "\n",
       "    .dataframe thead th {\n",
       "        text-align: right;\n",
       "    }\n",
       "</style>\n",
       "<table border=\"1\" class=\"dataframe\">\n",
       "  <thead>\n",
       "    <tr style=\"text-align: right;\">\n",
       "      <th></th>\n",
       "      <th>date</th>\n",
       "      <th>gender</th>\n",
       "      <th>tournament</th>\n",
       "      <th>round</th>\n",
       "      <th>player1</th>\n",
       "      <th>player2</th>\n",
       "      <th>matchLink</th>\n",
       "      <th>surface</th>\n",
       "      <th>result</th>\n",
       "      <th>winner</th>\n",
       "      <th>loser</th>\n",
       "      <th>score</th>\n",
       "      <th>numSets</th>\n",
       "    </tr>\n",
       "  </thead>\n",
       "  <tbody>\n",
       "    <tr>\n",
       "      <th>16</th>\n",
       "      <td>2006-09-08</td>\n",
       "      <td>W</td>\n",
       "      <td>US Open</td>\n",
       "      <td>SF</td>\n",
       "      <td>Amelie Mauresmo</td>\n",
       "      <td>Maria Sharapova</td>\n",
       "      <td>http://www.tennisabstract.com/charting/2006090...</td>\n",
       "      <td>hard</td>\n",
       "      <td>Maria Sharapova d. Amelie Mauresmo 6-0 4-6 6-0</td>\n",
       "      <td>Maria Sharapova</td>\n",
       "      <td>Amelie Mauresmo</td>\n",
       "      <td>6-0 4-6 6-0</td>\n",
       "      <td>3</td>\n",
       "    </tr>\n",
       "    <tr>\n",
       "      <th>28</th>\n",
       "      <td>2007-08-05</td>\n",
       "      <td>W</td>\n",
       "      <td>San Diego</td>\n",
       "      <td>F</td>\n",
       "      <td>Patty Schnyder</td>\n",
       "      <td>Maria Sharapova</td>\n",
       "      <td>http://www.tennisabstract.com/charting/2007080...</td>\n",
       "      <td>hard</td>\n",
       "      <td>Maria Sharapova d. Patty Schnyder 6-2 3-6 6-0</td>\n",
       "      <td>Maria Sharapova</td>\n",
       "      <td>Patty Schnyder</td>\n",
       "      <td>6-2 3-6 6-0</td>\n",
       "      <td>3</td>\n",
       "    </tr>\n",
       "    <tr>\n",
       "      <th>51</th>\n",
       "      <td>2016-01-23</td>\n",
       "      <td>W</td>\n",
       "      <td>Australian Open</td>\n",
       "      <td>R16</td>\n",
       "      <td>Maria Sharapova</td>\n",
       "      <td>Belinda Bencic</td>\n",
       "      <td>http://www.tennisabstract.com/charting/2016012...</td>\n",
       "      <td>hard</td>\n",
       "      <td>Maria Sharapova d. Belinda Bencic 7-5 7-5</td>\n",
       "      <td>Maria Sharapova</td>\n",
       "      <td>Belinda Bencic</td>\n",
       "      <td>7-5 7-5</td>\n",
       "      <td>2</td>\n",
       "    </tr>\n",
       "    <tr>\n",
       "      <th>56</th>\n",
       "      <td>2012-07-30</td>\n",
       "      <td>W</td>\n",
       "      <td>Olympics</td>\n",
       "      <td>R64</td>\n",
       "      <td>Maria Sharapova</td>\n",
       "      <td>Shahar Peer</td>\n",
       "      <td>http://www.tennisabstract.com/charting/2012073...</td>\n",
       "      <td>grass</td>\n",
       "      <td>Maria Sharapova d. Shahar Peer 6-2 6-0</td>\n",
       "      <td>Maria Sharapova</td>\n",
       "      <td>Shahar Peer</td>\n",
       "      <td>6-2 6-0</td>\n",
       "      <td>2</td>\n",
       "    </tr>\n",
       "    <tr>\n",
       "      <th>94</th>\n",
       "      <td>2015-10-27</td>\n",
       "      <td>W</td>\n",
       "      <td>Singapore</td>\n",
       "      <td>RR</td>\n",
       "      <td>Maria Sharapova</td>\n",
       "      <td>Simona Halep</td>\n",
       "      <td>http://www.tennisabstract.com/charting/2015102...</td>\n",
       "      <td>hard</td>\n",
       "      <td>Maria Sharapova d. Simona Halep 6-4 6-4</td>\n",
       "      <td>Maria Sharapova</td>\n",
       "      <td>Simona Halep</td>\n",
       "      <td>6-4 6-4</td>\n",
       "      <td>2</td>\n",
       "    </tr>\n",
       "    <tr>\n",
       "      <th>...</th>\n",
       "      <td>...</td>\n",
       "      <td>...</td>\n",
       "      <td>...</td>\n",
       "      <td>...</td>\n",
       "      <td>...</td>\n",
       "      <td>...</td>\n",
       "      <td>...</td>\n",
       "      <td>...</td>\n",
       "      <td>...</td>\n",
       "      <td>...</td>\n",
       "      <td>...</td>\n",
       "      <td>...</td>\n",
       "      <td>...</td>\n",
       "    </tr>\n",
       "    <tr>\n",
       "      <th>4610</th>\n",
       "      <td>2013-06-08</td>\n",
       "      <td>W</td>\n",
       "      <td>Roland Garros</td>\n",
       "      <td>F</td>\n",
       "      <td>Maria Sharapova</td>\n",
       "      <td>Serena Williams</td>\n",
       "      <td>http://www.tennisabstract.com/charting/2013060...</td>\n",
       "      <td>clay</td>\n",
       "      <td>Serena Williams d. Maria Sharapova 6-4 6-4</td>\n",
       "      <td>Serena Williams</td>\n",
       "      <td>Maria Sharapova</td>\n",
       "      <td>6-4 6-4</td>\n",
       "      <td>2</td>\n",
       "    </tr>\n",
       "    <tr>\n",
       "      <th>4660</th>\n",
       "      <td>2017-08-29</td>\n",
       "      <td>W</td>\n",
       "      <td>US Open</td>\n",
       "      <td>R128</td>\n",
       "      <td>Maria Sharapova</td>\n",
       "      <td>Simona Halep</td>\n",
       "      <td>http://www.tennisabstract.com/charting/2017082...</td>\n",
       "      <td>hard</td>\n",
       "      <td>Maria Sharapova d. Simona Halep 6-4 4-6 6-3</td>\n",
       "      <td>Maria Sharapova</td>\n",
       "      <td>Simona Halep</td>\n",
       "      <td>6-4 4-6 6-3</td>\n",
       "      <td>3</td>\n",
       "    </tr>\n",
       "    <tr>\n",
       "      <th>4688</th>\n",
       "      <td>2012-08-04</td>\n",
       "      <td>W</td>\n",
       "      <td>Olympics</td>\n",
       "      <td>F</td>\n",
       "      <td>Serena Williams</td>\n",
       "      <td>Maria Sharapova</td>\n",
       "      <td>http://www.tennisabstract.com/charting/2012080...</td>\n",
       "      <td>grass</td>\n",
       "      <td>Serena Williams d. Maria Sharapova 6-0 6-1</td>\n",
       "      <td>Serena Williams</td>\n",
       "      <td>Maria Sharapova</td>\n",
       "      <td>6-0 6-1</td>\n",
       "      <td>2</td>\n",
       "    </tr>\n",
       "    <tr>\n",
       "      <th>4792</th>\n",
       "      <td>2011-05-15</td>\n",
       "      <td>W</td>\n",
       "      <td>Rome</td>\n",
       "      <td>F</td>\n",
       "      <td>Samantha Stosur</td>\n",
       "      <td>Maria Sharapova</td>\n",
       "      <td>http://www.tennisabstract.com/charting/2011051...</td>\n",
       "      <td>clay</td>\n",
       "      <td>Maria Sharapova d. Samantha Stosur 6-2 6-4</td>\n",
       "      <td>Maria Sharapova</td>\n",
       "      <td>Samantha Stosur</td>\n",
       "      <td>6-2 6-4</td>\n",
       "      <td>2</td>\n",
       "    </tr>\n",
       "    <tr>\n",
       "      <th>4837</th>\n",
       "      <td>2007-01-27</td>\n",
       "      <td>W</td>\n",
       "      <td>Australian Open</td>\n",
       "      <td>F</td>\n",
       "      <td>Serena Williams</td>\n",
       "      <td>Maria Sharapova</td>\n",
       "      <td>http://www.tennisabstract.com/charting/2007012...</td>\n",
       "      <td>hard</td>\n",
       "      <td>Serena Williams d. Maria Sharapova 6-1 6-2</td>\n",
       "      <td>Serena Williams</td>\n",
       "      <td>Maria Sharapova</td>\n",
       "      <td>6-1 6-2</td>\n",
       "      <td>2</td>\n",
       "    </tr>\n",
       "  </tbody>\n",
       "</table>\n",
       "<p>117 rows × 13 columns</p>\n",
       "</div>"
      ],
      "text/plain": [
       "           date gender       tournament round          player1  \\\n",
       "16   2006-09-08      W          US Open    SF  Amelie Mauresmo   \n",
       "28   2007-08-05      W        San Diego     F   Patty Schnyder   \n",
       "51   2016-01-23      W  Australian Open   R16  Maria Sharapova   \n",
       "56   2012-07-30      W         Olympics   R64  Maria Sharapova   \n",
       "94   2015-10-27      W        Singapore    RR  Maria Sharapova   \n",
       "...         ...    ...              ...   ...              ...   \n",
       "4610 2013-06-08      W    Roland Garros     F  Maria Sharapova   \n",
       "4660 2017-08-29      W          US Open  R128  Maria Sharapova   \n",
       "4688 2012-08-04      W         Olympics     F  Serena Williams   \n",
       "4792 2011-05-15      W             Rome     F  Samantha Stosur   \n",
       "4837 2007-01-27      W  Australian Open     F  Serena Williams   \n",
       "\n",
       "              player2                                          matchLink  \\\n",
       "16    Maria Sharapova  http://www.tennisabstract.com/charting/2006090...   \n",
       "28    Maria Sharapova  http://www.tennisabstract.com/charting/2007080...   \n",
       "51     Belinda Bencic  http://www.tennisabstract.com/charting/2016012...   \n",
       "56        Shahar Peer  http://www.tennisabstract.com/charting/2012073...   \n",
       "94       Simona Halep  http://www.tennisabstract.com/charting/2015102...   \n",
       "...               ...                                                ...   \n",
       "4610  Serena Williams  http://www.tennisabstract.com/charting/2013060...   \n",
       "4660     Simona Halep  http://www.tennisabstract.com/charting/2017082...   \n",
       "4688  Maria Sharapova  http://www.tennisabstract.com/charting/2012080...   \n",
       "4792  Maria Sharapova  http://www.tennisabstract.com/charting/2011051...   \n",
       "4837  Maria Sharapova  http://www.tennisabstract.com/charting/2007012...   \n",
       "\n",
       "     surface                                          result           winner  \\\n",
       "16      hard  Maria Sharapova d. Amelie Mauresmo 6-0 4-6 6-0  Maria Sharapova   \n",
       "28      hard   Maria Sharapova d. Patty Schnyder 6-2 3-6 6-0  Maria Sharapova   \n",
       "51      hard       Maria Sharapova d. Belinda Bencic 7-5 7-5  Maria Sharapova   \n",
       "56     grass          Maria Sharapova d. Shahar Peer 6-2 6-0  Maria Sharapova   \n",
       "94      hard         Maria Sharapova d. Simona Halep 6-4 6-4  Maria Sharapova   \n",
       "...      ...                                             ...              ...   \n",
       "4610    clay      Serena Williams d. Maria Sharapova 6-4 6-4  Serena Williams   \n",
       "4660    hard     Maria Sharapova d. Simona Halep 6-4 4-6 6-3  Maria Sharapova   \n",
       "4688   grass      Serena Williams d. Maria Sharapova 6-0 6-1  Serena Williams   \n",
       "4792    clay      Maria Sharapova d. Samantha Stosur 6-2 6-4  Maria Sharapova   \n",
       "4837    hard      Serena Williams d. Maria Sharapova 6-1 6-2  Serena Williams   \n",
       "\n",
       "                loser        score  numSets  \n",
       "16    Amelie Mauresmo  6-0 4-6 6-0        3  \n",
       "28     Patty Schnyder  6-2 3-6 6-0        3  \n",
       "51     Belinda Bencic      7-5 7-5        2  \n",
       "56        Shahar Peer      6-2 6-0        2  \n",
       "94       Simona Halep      6-4 6-4        2  \n",
       "...               ...          ...      ...  \n",
       "4610  Maria Sharapova      6-4 6-4        2  \n",
       "4660     Simona Halep  6-4 4-6 6-3        3  \n",
       "4688  Maria Sharapova      6-0 6-1        2  \n",
       "4792  Samantha Stosur      6-2 6-4        2  \n",
       "4837  Maria Sharapova      6-1 6-2        2  \n",
       "\n",
       "[117 rows x 13 columns]"
      ]
     },
     "execution_count": 23,
     "metadata": {},
     "output_type": "execute_result"
    }
   ],
   "source": [
    "player = 'Maria Sharapova'\n",
    "players = list(set(set(matches['player1']).union(matches['player2'])))\n",
    "for player in players:\n",
    "    matches.loc[(matches['player1']==player)|(matches['player2']==player)]"
   ]
  }
 ],
 "metadata": {
  "kernelspec": {
   "display_name": "Python 3",
   "language": "python",
   "name": "python3"
  },
  "language_info": {
   "codemirror_mode": {
    "name": "ipython",
    "version": 3
   },
   "file_extension": ".py",
   "mimetype": "text/x-python",
   "name": "python",
   "nbconvert_exporter": "python",
   "pygments_lexer": "ipython3",
   "version": "3.7.3"
  },
  "notify_time": "5",
  "toc": {
   "base_numbering": 1,
   "nav_menu": {},
   "number_sections": true,
   "sideBar": true,
   "skip_h1_title": false,
   "title_cell": "Table of Contents",
   "title_sidebar": "Contents",
   "toc_cell": false,
   "toc_position": {},
   "toc_section_display": true,
   "toc_window_display": true
  },
  "varInspector": {
   "cols": {
    "lenName": 16,
    "lenType": 16,
    "lenVar": 40
   },
   "kernels_config": {
    "python": {
     "delete_cmd_postfix": "",
     "delete_cmd_prefix": "del ",
     "library": "var_list.py",
     "varRefreshCmd": "print(var_dic_list())"
    },
    "r": {
     "delete_cmd_postfix": ") ",
     "delete_cmd_prefix": "rm(",
     "library": "var_list.r",
     "varRefreshCmd": "cat(var_dic_list()) "
    }
   },
   "types_to_exclude": [
    "module",
    "function",
    "builtin_function_or_method",
    "instance",
    "_Feature"
   ],
   "window_display": false
  }
 },
 "nbformat": 4,
 "nbformat_minor": 2
}
