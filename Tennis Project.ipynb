{
 "cells": [
  {
   "cell_type": "markdown",
   "metadata": {},
   "source": [
    "# Import Libraries"
   ]
  },
  {
   "cell_type": "code",
   "execution_count": 108,
   "metadata": {
    "ExecuteTime": {
     "end_time": "2020-02-25T14:58:46.461330Z",
     "start_time": "2020-02-25T14:58:46.400985Z"
    }
   },
   "outputs": [
    {
     "name": "stdout",
     "output_type": "stream",
     "text": [
      "The autoreload extension is already loaded. To reload it, use:\n",
      "  %reload_ext autoreload\n"
     ]
    }
   ],
   "source": [
    "import pandas as pd\n",
    "pd.set_option('display.max_colwidth', -1)\n",
    "pd.set_option('display.max_colwidth', -1)\n",
    "pd.set_option('display.max_columns', 500)\n",
    "\n",
    "from sklearn.preprocessing import StandardScaler\n",
    "from sklearn.linear_model import LogisticRegression\n",
    "from sklearn.metrics import accuracy_score, confusion_matrix\n",
    "\n",
    "\n",
    "\n",
    "import helper\n",
    "%load_ext autoreload\n",
    "%autoreload 2"
   ]
  },
  {
   "cell_type": "markdown",
   "metadata": {},
   "source": [
    "# Obtain Data\n",
    "\n",
    "Data is from Jeff Sackmann's [Match Charting Project](http://www.tennisabstract.com/charting/meta.html), a crowdsourced effort to bring point-by-point data from professional matches to tennis enthusiasts.\n",
    "\n",
    "I periodically scrape the site for matches and store it in a MySQL database. For this project, I queried my database for all men's matches between 2000 and 2018 and saved match and point data in csv files."
   ]
  },
  {
   "cell_type": "code",
   "execution_count": 121,
   "metadata": {
    "ExecuteTime": {
     "end_time": "2020-02-25T15:03:52.840620Z",
     "start_time": "2020-02-25T15:03:46.560345Z"
    }
   },
   "outputs": [],
   "source": [
    "matches = pd.read_csv('data/matches.csv', parse_dates=['date'])\n",
    "matches['winPlayer1'] = (matches['player1']==matches['winner'])*1\n",
    "points = pd.read_csv('data/points.csv')"
   ]
  },
  {
   "cell_type": "markdown",
   "metadata": {},
   "source": [
    "## Calculate Stats from Scratch (~12 mins)\n",
    "\n",
    "I created a separate dataframe where each row is a player and match (so twice the number of rows as in the matches dataframe). For each row, I calculated various stats using the points dataframe. Since this process took a while to run, I saved the results in a csv and will merge with the match dataframe later on as needed."
   ]
  },
  {
   "cell_type": "code",
   "execution_count": 122,
   "metadata": {
    "ExecuteTime": {
     "end_time": "2020-02-25T15:03:53.449006Z",
     "start_time": "2020-02-25T15:03:53.336308Z"
    }
   },
   "outputs": [],
   "source": [
    "stats = pd.read_csv('data/stats.csv')"
   ]
  },
  {
   "cell_type": "markdown",
   "metadata": {},
   "source": [
    "# Model\n",
    "\n",
    "I will run logistic regression to predict if 'player1' wins match"
   ]
  },
  {
   "cell_type": "markdown",
   "metadata": {},
   "source": [
    "## Split Data"
   ]
  },
  {
   "cell_type": "code",
   "execution_count": 124,
   "metadata": {
    "ExecuteTime": {
     "end_time": "2020-02-25T15:04:15.410004Z",
     "start_time": "2020-02-25T15:04:15.323237Z"
    }
   },
   "outputs": [
    {
     "name": "stderr",
     "output_type": "stream",
     "text": [
      "C:\\Users\\anees\\AppData\\Local\\Continuum\\anaconda3\\lib\\site-packages\\pandas\\core\\frame.py:4117: SettingWithCopyWarning: \n",
      "A value is trying to be set on a copy of a slice from a DataFrame\n",
      "\n",
      "See the caveats in the documentation: http://pandas.pydata.org/pandas-docs/stable/user_guide/indexing.html#returning-a-view-versus-a-copy\n",
      "  errors=errors,\n"
     ]
    }
   ],
   "source": [
    "columns = ['matchLink', 'date', 'gender', 'tournament', 'round', 'player1', 'player2', 'winPlayer1']\n",
    "data = matches.copy()\n",
    "data = data.loc[:,columns]\n",
    "gender = 'M'\n",
    "if gender is not None:\n",
    "    data = data.loc[data['gender']==gender]\n",
    "\n",
    "data_validation, data_test = helper.m_splitdata(data, validation_year=2017, test_year=2018, gender=gender)"
   ]
  },
  {
   "cell_type": "markdown",
   "metadata": {},
   "source": [
    "## Create Datasets for Model"
   ]
  },
  {
   "cell_type": "code",
   "execution_count": 133,
   "metadata": {
    "ExecuteTime": {
     "end_time": "2020-02-25T15:13:06.417108Z",
     "start_time": "2020-02-25T15:13:00.534212Z"
    }
   },
   "outputs": [
    {
     "name": "stdout",
     "output_type": "stream",
     "text": [
      "1 out of 259\r",
      "2 out of 259\r",
      "3 out of 259\r",
      "4 out of 259\r",
      "5 out of 259\r",
      "6 out of 259\r",
      "7 out of 259\r",
      "8 out of 259\r",
      "9 out of 259\r",
      "10 out of 259"
     ]
    },
    {
     "name": "stderr",
     "output_type": "stream",
     "text": [
      "C:\\Users\\anees\\Google Drive\\_Data Science\\_Projects\\Flatiron\\Flatiron_CapstoneProject\\helper.py:92: FutureWarning: M and Y units are deprecated and will be removed in a future version.\n",
      "  date_min = date_max - pd.Timedelta(train_numyears, unit='Y')\n",
      "C:\\Users\\anees\\Google Drive\\_Data Science\\_Projects\\Flatiron\\Flatiron_CapstoneProject\\helper.py:105: SettingWithCopyWarning: \n",
      "A value is trying to be set on a copy of a slice from a DataFrame.\n",
      "Try using .loc[row_indexer,col_indexer] = value instead\n",
      "\n",
      "See the caveats in the documentation: http://pandas.pydata.org/pandas-docs/stable/user_guide/indexing.html#returning-a-view-versus-a-copy\n",
      "  data_train_player['player'] = player\n"
     ]
    },
    {
     "name": "stdout",
     "output_type": "stream",
     "text": [
      "259 out of 259\r"
     ]
    }
   ],
   "source": [
    "# Specify arguments\n",
    "match_dataframe = matches\n",
    "stats_dataframe = stats\n",
    "train_numyears = 5\n",
    "\n",
    "# Train Data\n",
    "traindata_list = []\n",
    "for index, row in data_validation.iterrows():\n",
    "    print(f\"{index+1} out of {len(data_validation)}\", end='\\r')\n",
    "    df_row = helper.m_createdataframeformodel(row, match_dataframe=match_dataframe\n",
    "                                                , stats_dataframe=stats_dataframe\n",
    "                                                , train_numyears=train_numyears)\n",
    "    traindata_list.append(df_row)\n",
    "    \n",
    "traindata = pd.DataFrame.from_records(traindata_list)\n",
    "traindata.dropna(inplace=True)"
   ]
  },
  {
   "cell_type": "code",
   "execution_count": 134,
   "metadata": {
    "ExecuteTime": {
     "end_time": "2020-02-25T15:13:15.126234Z",
     "start_time": "2020-02-25T15:13:06.839191Z"
    }
   },
   "outputs": [
    {
     "name": "stdout",
     "output_type": "stream",
     "text": [
      "368 out of 368\r"
     ]
    }
   ],
   "source": [
    "# Test Data\n",
    "testdata_list = []\n",
    "for index, row in data_test.iterrows():\n",
    "    print(f\"{index+1} out of {len(data_test)}\", end='\\r')\n",
    "    df_row = helper.m_createdataframeformodel(row, match_dataframe=match_dataframe\n",
    "                                                , stats_dataframe=stats_dataframe\n",
    "                                                , train_numyears=train_numyears)\n",
    "    testdata_list.append(df_row)\n",
    "    \n",
    "testdata = pd.DataFrame.from_records(testdata_list)\n",
    "testdata.dropna(inplace=True)"
   ]
  },
  {
   "cell_type": "markdown",
   "metadata": {},
   "source": [
    "## Create X and Y Data"
   ]
  },
  {
   "cell_type": "code",
   "execution_count": 135,
   "metadata": {
    "ExecuteTime": {
     "end_time": "2020-02-25T15:13:15.601962Z",
     "start_time": "2020-02-25T15:13:15.542122Z"
    }
   },
   "outputs": [],
   "source": [
    "# Train data\n",
    "X_data_train = traindata[traindata.columns[len(columns):]]\n",
    "y_data_train = traindata['winPlayer1']\n",
    "\n",
    "# Test data\n",
    "X_data_test = testdata[testdata.columns[len(columns):]]\n",
    "y_data_test = testdata['winPlayer1']\n",
    "\n",
    "# Scale data\n",
    "scaler = StandardScaler(with_mean=False)\n",
    "X_data_train_scaled = scaler.fit_transform(X_data_train)\n",
    "X_data_test_scaled = scaler.transform(X_data_test)"
   ]
  },
  {
   "cell_type": "markdown",
   "metadata": {},
   "source": [
    "## Run Model"
   ]
  },
  {
   "cell_type": "code",
   "execution_count": 136,
   "metadata": {
    "ExecuteTime": {
     "end_time": "2020-02-25T15:13:16.062746Z",
     "start_time": "2020-02-25T15:13:15.999913Z"
    }
   },
   "outputs": [
    {
     "name": "stdout",
     "output_type": "stream",
     "text": [
      "Training data accuracy: 0.6428571428571429\n",
      "[[57 43]\n",
      " [37 87]]\n",
      "\n",
      "Test data accuracy: 0.5808383233532934\n",
      "[[ 91  93]\n",
      " [ 47 103]]\n"
     ]
    },
    {
     "name": "stderr",
     "output_type": "stream",
     "text": [
      "C:\\Users\\anees\\AppData\\Local\\Continuum\\anaconda3\\lib\\site-packages\\sklearn\\linear_model\\logistic.py:432: FutureWarning: Default solver will be changed to 'lbfgs' in 0.22. Specify a solver to silence this warning.\n",
      "  FutureWarning)\n"
     ]
    }
   ],
   "source": [
    "# Fit Logistic Regression\n",
    "logreg = LogisticRegression(fit_intercept=False)\n",
    "logreg.fit(X_data_train_scaled, y_data_train)\n",
    "\n",
    "# Create predictions and check accuracy\n",
    "y_hat_train = logreg.predict(X_data_train_scaled)\n",
    "y_hat_train_p = logreg.predict_proba(X_data_train_scaled)\n",
    "print(f\"Training data accuracy: {accuracy_score(y_data_train, y_hat_train)}\")\n",
    "\n",
    "\n",
    "cm_train = confusion_matrix(y_data_train,y_hat_train)\n",
    "print(cm_train)\n",
    "print('')\n",
    "\n",
    "y_hat_test = logreg.predict(X_data_test_scaled)\n",
    "y_hat_test_p = logreg.predict_proba(X_data_test_scaled)\n",
    "print(f\"Test data accuracy: {accuracy_score(y_data_test, y_hat_test)}\")\n",
    "cm_test = confusion_matrix(y_data_test,y_hat_test)\n",
    "print(cm_test)\n",
    "\n",
    "variable_coefficient_dict = dict(zip(X_data_train.columns, logreg.coef_[0]))\n",
    "sorted_variable_coefficient_dict = sorted(variable_coefficient_dict.items(), key=lambda x: abs(x[1]), reverse=True)\n"
   ]
  },
  {
   "cell_type": "markdown",
   "metadata": {},
   "source": [
    "Now let's see which variables are important"
   ]
  },
  {
   "cell_type": "code",
   "execution_count": 137,
   "metadata": {
    "ExecuteTime": {
     "end_time": "2020-02-25T15:13:16.655666Z",
     "start_time": "2020-02-25T15:13:16.476146Z"
    }
   },
   "outputs": [
    {
     "data": {
      "image/png": "[encoded data removed]",
      "text/plain": [
       "<Figure size 432x288 with 1 Axes>"
      ]
     },
     "metadata": {
      "needs_background": "light"
     },
     "output_type": "display_data"
    }
   ],
   "source": [
    "sorted_variable_coefficient_dict = sorted(variable_coefficient_dict.items(), key=lambda x: abs(x[1]))\n",
    "y = [x[0] for x in sorted_variable_coefficient_dict]\n",
    "x = [x[1] for x in sorted_variable_coefficient_dict]\n",
    "positive = [z>0 for z in x]\n",
    "\n",
    "coef_df = pd.DataFrame([x,y,positive]).T\n",
    "coef_df.columns=['coef', 'variable', 'positive']\n",
    "coef_df.plot(kind='barh', x='variable', y='coef', color=coef_df.positive.map({True: 'g', False: 'r'}),legend=False);\n",
    "# plt.barh(y, x, color=positive.apply({True:'g', False:'r'}));\n",
    "# sorted_variable_coefficient_dict"
   ]
  }
 ],
 "metadata": {
  "kernelspec": {
   "display_name": "Python 3",
   "language": "python",
   "name": "python3"
  },
  "language_info": {
   "codemirror_mode": {
    "name": "ipython",
    "version": 3
   },
   "file_extension": ".py",
   "mimetype": "text/x-python",
   "name": "python",
   "nbconvert_exporter": "python",
   "pygments_lexer": "ipython3",
   "version": "3.7.3"
  },
  "notify_time": "5",
  "toc": {
   "base_numbering": 1,
   "nav_menu": {},
   "number_sections": true,
   "sideBar": true,
   "skip_h1_title": false,
   "title_cell": "Table of Contents",
   "title_sidebar": "Contents",
   "toc_cell": false,
   "toc_position": {},
   "toc_section_display": true,
   "toc_window_display": true
  },
  "varInspector": {
   "cols": {
    "lenName": 16,
    "lenType": 16,
    "lenVar": 40
   },
   "kernels_config": {
    "python": {
     "delete_cmd_postfix": "",
     "delete_cmd_prefix": "del ",
     "library": "var_list.py",
     "varRefreshCmd": "print(var_dic_list())"
    },
    "r": {
     "delete_cmd_postfix": ") ",
     "delete_cmd_prefix": "rm(",
     "library": "var_list.r",
     "varRefreshCmd": "cat(var_dic_list()) "
    }
   },
   "types_to_exclude": [
    "module",
    "function",
    "builtin_function_or_method",
    "instance",
    "_Feature"
   ],
   "window_display": false
  }
 },
 "nbformat": 4,
 "nbformat_minor": 2
}
